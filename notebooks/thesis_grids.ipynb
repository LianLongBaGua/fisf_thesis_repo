{
 "cells": [
  {
   "cell_type": "code",
   "execution_count": 1,
   "metadata": {},
   "outputs": [],
   "source": [
    "from functools import partial\n",
    "import sys\n",
    "import pandas as pd\n",
    "import numpy as np\n",
    "import talib as ta\n",
    "\n",
    "sys.path.append('..')\n",
    "pd.set_option(\"plotting.backend\", \"plotly\")\n",
    "df = pd.read_hdf('../data/cleaned_data.h5').droplevel(0)\n",
    "shanghai_composite = pd.read_hdf('../data/shanghai_composite.h5', key='shanghai_composite')\n",
    "factors = pd.read_hdf('../data/ch3factors.h5', key='factors')"
   ]
  },
  {
   "cell_type": "markdown",
   "metadata": {},
   "source": [
    "### GET SUMMARY STATISTICS FOR ALL THE INDICES"
   ]
  },
  {
   "cell_type": "code",
   "execution_count": 2,
   "metadata": {},
   "outputs": [],
   "source": [
    "# create a table for 1. Data start date, 2. Annualized mean, 3. annualized volatility for each column for df\n",
    "def get_annualized_mean(df):\n",
    "    return df.mean() * 252\n",
    "\n",
    "def get_annualized_volatility(df):\n",
    "    return df.std() * np.sqrt(252)\n",
    "\n",
    "def get_annualized_sharpe_ratio(df):\n",
    "    return get_annualized_mean(df) / get_annualized_volatility(df)"
   ]
  },
  {
   "cell_type": "code",
   "execution_count": 3,
   "metadata": {},
   "outputs": [],
   "source": [
    "annualized_mean_returns = df.pct_change().apply(get_annualized_mean).to_frame('Annualized Mean')\n",
    "annualized_volatility = df.pct_change().apply(get_annualized_volatility).to_frame('Annualized Volatility')\n",
    "annualized_sharpe_ratio = df.pct_change().apply(get_annualized_sharpe_ratio).to_frame('Annualized Sharpe Ratio')\n",
    "start_dates = df.apply(lambda x: x.dropna().index[0]).to_frame('Start Date')"
   ]
  },
  {
   "cell_type": "code",
   "execution_count": 4,
   "metadata": {},
   "outputs": [],
   "source": [
    "annualized_table = pd.concat([start_dates, annualized_mean_returns, annualized_volatility, annualized_sharpe_ratio], axis=1)"
   ]
  },
  {
   "cell_type": "code",
   "execution_count": 5,
   "metadata": {},
   "outputs": [],
   "source": [
    "shanghai_composite.rename(columns={'close': '000001'}, inplace=True)"
   ]
  },
  {
   "cell_type": "code",
   "execution_count": 6,
   "metadata": {},
   "outputs": [],
   "source": [
    "shanghai_composite_annualized_mean_returns = shanghai_composite.pct_change().apply(get_annualized_mean).to_frame('Annualized Mean')\n",
    "shanghai_composite_annualized_volatility = shanghai_composite.pct_change().apply(get_annualized_volatility).to_frame('Annualized Volatility')\n",
    "shanghai_composite_annualized_sharpe_ratio = shanghai_composite.pct_change().apply(get_annualized_sharpe_ratio).to_frame('Annualized Sharpe Ratio')\n",
    "shanghai_composite_start_dates = shanghai_composite.apply(lambda x: x.dropna().index[0]).to_frame('Start Date')"
   ]
  },
  {
   "cell_type": "code",
   "execution_count": 7,
   "metadata": {},
   "outputs": [],
   "source": [
    "shanghai_composite_annualized_table = pd.concat([shanghai_composite_start_dates, shanghai_composite_annualized_mean_returns, shanghai_composite_annualized_volatility, shanghai_composite_annualized_sharpe_ratio], axis=1)"
   ]
  },
  {
   "cell_type": "code",
   "execution_count": 16,
   "metadata": {},
   "outputs": [],
   "source": [
    "summary_stats = pd.concat([annualized_table, shanghai_composite_annualized_table], axis=0)\n",
    "summary_stats.index.name = \"tickers\"\n",
    "from src import config\n",
    "converter = config.ticker_to_en_name\n",
    "summary_stats['Start Date'] = summary_stats['Start Date'].dt.to_period('M')\n",
    "summary_stats.index = summary_stats.index.map(converter, na_action='ignore')"
   ]
  },
  {
   "cell_type": "markdown",
   "metadata": {},
   "source": [
    "### GET TOTAL ALPHAS AND BETAS FOR EACH SECTOR"
   ]
  },
  {
   "cell_type": "code",
   "execution_count": 23,
   "metadata": {},
   "outputs": [],
   "source": [
    "factors.index = factors.index.to_period('M')\n",
    "factors.drop(columns=['rf_mon'], inplace=True)"
   ]
  },
  {
   "cell_type": "code",
   "execution_count": 60,
   "metadata": {},
   "outputs": [],
   "source": [
    "df_monthly = df.resample('M').last()\n",
    "df_monthly.index = df_monthly.index.to_period('M')\n",
    "df_monthly = df_monthly.pct_change().dropna()"
   ]
  },
  {
   "cell_type": "code",
   "execution_count": 61,
   "metadata": {},
   "outputs": [],
   "source": [
    "# make the length of both df_monthly and factors the same, one is longer at one end, the other is longer at the other end\n",
    "factors = factors.loc[df_monthly.index[0]:factors.index[-1]]\n",
    "df_monthly = df_monthly.loc[factors.index[0]:factors.index[-1]]"
   ]
  },
  {
   "cell_type": "code",
   "execution_count": 90,
   "metadata": {},
   "outputs": [
    {
     "ename": "ValueError",
     "evalue": "Length of values (3) does not match length of index (222)",
     "output_type": "error",
     "traceback": [
      "\u001b[1;31m---------------------------------------------------------------------------\u001b[0m",
      "\u001b[1;31mValueError\u001b[0m                                Traceback (most recent call last)",
      "\u001b[1;32mc:\\Users\\tonyc\\Documents\\GitHub\\thesis_repo\\notebooks\\thesis_grids.ipynb Cell 14\u001b[0m line \u001b[0;36m5\n\u001b[0;32m      <a href='vscode-notebook-cell:/c%3A/Users/tonyc/Documents/GitHub/thesis_repo/notebooks/thesis_grids.ipynb#X43sZmlsZQ%3D%3D?line=2'>3</a>\u001b[0m \u001b[39mfor\u001b[39;00m ticker \u001b[39min\u001b[39;00m df_monthly\u001b[39m.\u001b[39mcolumns:\n\u001b[0;32m      <a href='vscode-notebook-cell:/c%3A/Users/tonyc/Documents/GitHub/thesis_repo/notebooks/thesis_grids.ipynb#X43sZmlsZQ%3D%3D?line=3'>4</a>\u001b[0m     betas, alphas \u001b[39m=\u001b[39m np\u001b[39m.\u001b[39mlinalg\u001b[39m.\u001b[39mlstsq(factors, df_monthly[ticker], rcond\u001b[39m=\u001b[39m\u001b[39mNone\u001b[39;00m)[\u001b[39m0\u001b[39m:\u001b[39m2\u001b[39m]\n\u001b[1;32m----> <a href='vscode-notebook-cell:/c%3A/Users/tonyc/Documents/GitHub/thesis_repo/notebooks/thesis_grids.ipynb#X43sZmlsZQ%3D%3D?line=4'>5</a>\u001b[0m     factor_exposures[ticker] \u001b[39m=\u001b[39m betas\n",
      "File \u001b[1;32md:\\veighna_studio\\lib\\site-packages\\pandas\\core\\frame.py:3978\u001b[0m, in \u001b[0;36mDataFrame.__setitem__\u001b[1;34m(self, key, value)\u001b[0m\n\u001b[0;32m   3975\u001b[0m     \u001b[39mself\u001b[39m\u001b[39m.\u001b[39m_setitem_array([key], value)\n\u001b[0;32m   3976\u001b[0m \u001b[39melse\u001b[39;00m:\n\u001b[0;32m   3977\u001b[0m     \u001b[39m# set column\u001b[39;00m\n\u001b[1;32m-> 3978\u001b[0m     \u001b[39mself\u001b[39;49m\u001b[39m.\u001b[39;49m_set_item(key, value)\n",
      "File \u001b[1;32md:\\veighna_studio\\lib\\site-packages\\pandas\\core\\frame.py:4172\u001b[0m, in \u001b[0;36mDataFrame._set_item\u001b[1;34m(self, key, value)\u001b[0m\n\u001b[0;32m   4162\u001b[0m \u001b[39mdef\u001b[39;00m \u001b[39m_set_item\u001b[39m(\u001b[39mself\u001b[39m, key, value) \u001b[39m-\u001b[39m\u001b[39m>\u001b[39m \u001b[39mNone\u001b[39;00m:\n\u001b[0;32m   4163\u001b[0m \u001b[39m    \u001b[39m\u001b[39m\"\"\"\u001b[39;00m\n\u001b[0;32m   4164\u001b[0m \u001b[39m    Add series to DataFrame in specified column.\u001b[39;00m\n\u001b[0;32m   4165\u001b[0m \n\u001b[1;32m   (...)\u001b[0m\n\u001b[0;32m   4170\u001b[0m \u001b[39m    ensure homogeneity.\u001b[39;00m\n\u001b[0;32m   4171\u001b[0m \u001b[39m    \"\"\"\u001b[39;00m\n\u001b[1;32m-> 4172\u001b[0m     value \u001b[39m=\u001b[39m \u001b[39mself\u001b[39;49m\u001b[39m.\u001b[39;49m_sanitize_column(value)\n\u001b[0;32m   4174\u001b[0m     \u001b[39mif\u001b[39;00m (\n\u001b[0;32m   4175\u001b[0m         key \u001b[39min\u001b[39;00m \u001b[39mself\u001b[39m\u001b[39m.\u001b[39mcolumns\n\u001b[0;32m   4176\u001b[0m         \u001b[39mand\u001b[39;00m value\u001b[39m.\u001b[39mndim \u001b[39m==\u001b[39m \u001b[39m1\u001b[39m\n\u001b[0;32m   4177\u001b[0m         \u001b[39mand\u001b[39;00m \u001b[39mnot\u001b[39;00m is_extension_array_dtype(value)\n\u001b[0;32m   4178\u001b[0m     ):\n\u001b[0;32m   4179\u001b[0m         \u001b[39m# broadcast across multiple columns if necessary\u001b[39;00m\n\u001b[0;32m   4180\u001b[0m         \u001b[39mif\u001b[39;00m \u001b[39mnot\u001b[39;00m \u001b[39mself\u001b[39m\u001b[39m.\u001b[39mcolumns\u001b[39m.\u001b[39mis_unique \u001b[39mor\u001b[39;00m \u001b[39misinstance\u001b[39m(\u001b[39mself\u001b[39m\u001b[39m.\u001b[39mcolumns, MultiIndex):\n",
      "File \u001b[1;32md:\\veighna_studio\\lib\\site-packages\\pandas\\core\\frame.py:4905\u001b[0m, in \u001b[0;36mDataFrame._sanitize_column\u001b[1;34m(self, value)\u001b[0m\n\u001b[0;32m   4902\u001b[0m     \u001b[39mreturn\u001b[39;00m _reindex_for_setitem(Series(value), \u001b[39mself\u001b[39m\u001b[39m.\u001b[39mindex)\n\u001b[0;32m   4904\u001b[0m \u001b[39mif\u001b[39;00m is_list_like(value):\n\u001b[1;32m-> 4905\u001b[0m     com\u001b[39m.\u001b[39;49mrequire_length_match(value, \u001b[39mself\u001b[39;49m\u001b[39m.\u001b[39;49mindex)\n\u001b[0;32m   4906\u001b[0m \u001b[39mreturn\u001b[39;00m sanitize_array(value, \u001b[39mself\u001b[39m\u001b[39m.\u001b[39mindex, copy\u001b[39m=\u001b[39m\u001b[39mTrue\u001b[39;00m, allow_2d\u001b[39m=\u001b[39m\u001b[39mTrue\u001b[39;00m)\n",
      "File \u001b[1;32md:\\veighna_studio\\lib\\site-packages\\pandas\\core\\common.py:561\u001b[0m, in \u001b[0;36mrequire_length_match\u001b[1;34m(data, index)\u001b[0m\n\u001b[0;32m    557\u001b[0m \u001b[39m\u001b[39m\u001b[39m\"\"\"\u001b[39;00m\n\u001b[0;32m    558\u001b[0m \u001b[39mCheck the length of data matches the length of the index.\u001b[39;00m\n\u001b[0;32m    559\u001b[0m \u001b[39m\"\"\"\u001b[39;00m\n\u001b[0;32m    560\u001b[0m \u001b[39mif\u001b[39;00m \u001b[39mlen\u001b[39m(data) \u001b[39m!=\u001b[39m \u001b[39mlen\u001b[39m(index):\n\u001b[1;32m--> 561\u001b[0m     \u001b[39mraise\u001b[39;00m \u001b[39mValueError\u001b[39;00m(\n\u001b[0;32m    562\u001b[0m         \u001b[39m\"\u001b[39m\u001b[39mLength of values \u001b[39m\u001b[39m\"\u001b[39m\n\u001b[0;32m    563\u001b[0m         \u001b[39mf\u001b[39m\u001b[39m\"\u001b[39m\u001b[39m(\u001b[39m\u001b[39m{\u001b[39;00m\u001b[39mlen\u001b[39m(data)\u001b[39m}\u001b[39;00m\u001b[39m) \u001b[39m\u001b[39m\"\u001b[39m\n\u001b[0;32m    564\u001b[0m         \u001b[39m\"\u001b[39m\u001b[39mdoes not match length of index \u001b[39m\u001b[39m\"\u001b[39m\n\u001b[0;32m    565\u001b[0m         \u001b[39mf\u001b[39m\u001b[39m\"\u001b[39m\u001b[39m(\u001b[39m\u001b[39m{\u001b[39;00m\u001b[39mlen\u001b[39m(index)\u001b[39m}\u001b[39;00m\u001b[39m)\u001b[39m\u001b[39m\"\u001b[39m\n\u001b[0;32m    566\u001b[0m     )\n",
      "\u001b[1;31mValueError\u001b[0m: Length of values (3) does not match length of index (222)"
     ]
    }
   ],
   "source": [
    "# get factor exposures for each ticker\n",
    "factor_exposures = pd.DataFrame(index=df_monthly.index, columns=df_monthly.columns)\n",
    "for ticker in df_monthly.columns:\n",
    "    betas, alphas = np.linalg.lstsq(factors, df_monthly[ticker], rcond=None)[0:2]\n",
    "    factor_exposures[ticker] = betas"
   ]
  },
  {
   "cell_type": "code",
   "execution_count": 87,
   "metadata": {},
   "outputs": [
    {
     "data": {
      "text/plain": [
       "(array([ 0.90650604,  0.72560119, -0.12313525]),\n",
       " array([0.4373934]),\n",
       " 3,\n",
       " array([1.18094697, 0.76373449, 0.46122097]))"
      ]
     },
     "execution_count": 87,
     "metadata": {},
     "output_type": "execute_result"
    }
   ],
   "source": [
    "np.linalg.lstsq(factors, df_monthly['801010'], rcond=None)"
   ]
  },
  {
   "cell_type": "code",
   "execution_count": 88,
   "metadata": {},
   "outputs": [],
   "source": [
    "betas, alphas = (lambda x: (x[0], x[1]))(np.linalg.lstsq(factors, df_monthly['801010'], rcond=None))"
   ]
  },
  {
   "cell_type": "code",
   "execution_count": 89,
   "metadata": {},
   "outputs": [
    {
     "data": {
      "text/plain": [
       "(array([ 0.90650604,  0.72560119, -0.12313525]), array([0.4373934]))"
      ]
     },
     "execution_count": 89,
     "metadata": {},
     "output_type": "execute_result"
    }
   ],
   "source": [
    "betas, alphas"
   ]
  }
 ],
 "metadata": {
  "kernelspec": {
   "display_name": ".venv",
   "language": "python",
   "name": "python3"
  },
  "language_info": {
   "codemirror_mode": {
    "name": "ipython",
    "version": 3
   },
   "file_extension": ".py",
   "mimetype": "text/x-python",
   "name": "python",
   "nbconvert_exporter": "python",
   "pygments_lexer": "ipython3",
   "version": "3.10.9"
  }
 },
 "nbformat": 4,
 "nbformat_minor": 2
}
