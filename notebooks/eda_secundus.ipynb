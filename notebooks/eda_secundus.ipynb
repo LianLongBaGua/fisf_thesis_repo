{
 "cells": [
  {
   "cell_type": "code",
   "execution_count": 1,
   "metadata": {},
   "outputs": [],
   "source": [
    "import pandas as pd\n",
    "import numpy as np\n",
    "import sys\n",
    "import vectorbt as vbt\n",
    "sys.path.append('E:/ONEDRIVE/financial_data')\n",
    "store = pd.HDFStore('E:/ONEDRIVE/financial_data/ensemble.h5')\n",
    "keys = [key for key in store.keys()]\n",
    "store.close()\n",
    "ensemble_df = pd.read_hdf('E:/ONEDRIVE/financial_data/ensemble.h5', key=keys[-1])"
   ]
  },
  {
   "cell_type": "code",
   "execution_count": 3,
   "metadata": {},
   "outputs": [],
   "source": [
    "df = ensemble_df"
   ]
  },
  {
   "cell_type": "code",
   "execution_count": 13,
   "metadata": {},
   "outputs": [],
   "source": [
    "ma_conjunction = vbt.MA.run(df, list(range(5, 50, 5)), ewm=True)"
   ]
  },
  {
   "cell_type": "code",
   "execution_count": 2,
   "metadata": {},
   "outputs": [],
   "source": [
    "from BarkNotificator import BarkNotificator\n",
    "\n",
    "bark = BarkNotificator(device_token=\"8e17d6a2fa9fd1001ebbf81663c968f08cf82a09ef85895b9a9d75083ed493a9\")\n",
    "\n",
    "bark.send(title=\"welcome\", content=\"hello world\")"
   ]
  },
  {
   "cell_type": "code",
   "execution_count": null,
   "metadata": {},
   "outputs": [],
   "source": []
  }
 ],
 "metadata": {
  "kernelspec": {
   "display_name": ".venv",
   "language": "python",
   "name": "python3"
  },
  "language_info": {
   "codemirror_mode": {
    "name": "ipython",
    "version": 3
   },
   "file_extension": ".py",
   "mimetype": "text/x-python",
   "name": "python",
   "nbconvert_exporter": "python",
   "pygments_lexer": "ipython3",
   "version": "3.10.9"
  }
 },
 "nbformat": 4,
 "nbformat_minor": 2
}
